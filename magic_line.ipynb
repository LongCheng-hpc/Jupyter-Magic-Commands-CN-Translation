{
 "cells": [
  {
   "cell_type": "markdown",
   "metadata": {},
   "source": [
    "# Magic lines 魔法指令\n",
    "Jupyter notebook在数据科学、人工智能以及相关领域的应用越来越广，已经是常见的工具之一。  \n",
    "Ipython中支持多个魔法指令，这些魔法指令快捷、方便、小巧，值得了解一下。   \n",
    "本分享是对Ipython官方文档中magic commands一节的全文翻译，以字母顺序，介绍了官方所有魔法指令的用法、功能以及部分示例。  \n",
    "本教程使用方法推荐：  \n",
    "1. 浏览一遍，了解一下这些魔法指令能干嘛。\n",
    "2. 日后有相关编程需求的时候，回到本翻译或者官方文档查看用法以及相关示例。\n"
   ]
  },
  {
   "cell_type": "markdown",
   "metadata": {},
   "source": [
    "### %alias  \n",
    "和shell中alias命令功能以及使用方法类似\n",
    "对系统命令起别名，通过\"%alias alias_name cmd\"即将系统cmd命令起别名位alias_name，支持增加参数的进行调用  \n",
    "该别名的优先级较低，比如我们同时拥有一个变量\"doodle\"以及一个别名\"doodle\"，那么调用\"doodle\"时将优先返回系统变量，而不是该别名  \n",
    "可以使用'%l'或者'%s'，来表示输入参数时，是输入整行还是单个字符串，如以下示例"
   ]
  },
  {
   "cell_type": "code",
   "execution_count": 11,
   "metadata": {},
   "outputs": [],
   "source": [
    "alias bracket echo \"Input in brackets: <%l>\""
   ]
  },
  {
   "cell_type": "code",
   "execution_count": 12,
   "metadata": {},
   "outputs": [
    {
     "name": "stdout",
     "output_type": "stream",
     "text": [
      "Input in brackets: <hello world>\n"
     ]
    }
   ],
   "source": [
    "bracket hello world"
   ]
  },
  {
   "cell_type": "code",
   "execution_count": 16,
   "metadata": {},
   "outputs": [],
   "source": [
    "alias parts echo \"Input in first: %s second: %s\""
   ]
  },
  {
   "cell_type": "code",
   "execution_count": 18,
   "metadata": {},
   "outputs": [
    {
     "name": "stdout",
     "output_type": "stream",
     "text": [
      "Input in first: 10 second: 20\n"
     ]
    }
   ],
   "source": [
    "parts 10 20"
   ]
  },
  {
   "cell_type": "markdown",
   "metadata": {},
   "source": [
    "如果我们直接运行\"%alias\"，不添加参数调用，那么会打印当前的别名表。  \n",
    "可以通过在末尾添加问号来查看别名的定义。"
   ]
  },
  {
   "cell_type": "code",
   "execution_count": 36,
   "metadata": {},
   "outputs": [
    {
     "name": "stdout",
     "output_type": "stream",
     "text": [
      "Total number of aliases: 15\n"
     ]
    },
    {
     "data": {
      "text/plain": [
       "[('bracket', 'echo \"Input in brackets: <%l>\"'),\n",
       " ('cat', 'cat'),\n",
       " ('cp', 'cp'),\n",
       " ('ldir', 'ls -F -G -l %l | grep /$'),\n",
       " ('lf', 'ls -F -l -G %l | grep ^-'),\n",
       " ('lk', 'ls -F -l -G %l | grep ^l'),\n",
       " ('ll', 'ls -F -l -G'),\n",
       " ('ls', 'ls -F -G'),\n",
       " ('lx', 'ls -F -l -G %l | grep ^-..x'),\n",
       " ('mkdir', 'mkdir'),\n",
       " ('mv', 'mv'),\n",
       " ('parts', 'echo \"Input in first: %s second: %s\"'),\n",
       " ('rm', 'rm'),\n",
       " ('rmdir', 'rmdir'),\n",
       " ('show', 'echo')]"
      ]
     },
     "execution_count": 36,
     "metadata": {},
     "output_type": "execute_result"
    }
   ],
   "source": [
    "%alias"
   ]
  },
  {
   "cell_type": "markdown",
   "metadata": {},
   "source": [
    "### %alias_magic  \n",
    "`%alias_magic [-l] [-c] [-p PARAMS] name target`  \n",
    "该指令的目的是为一行代码，或者一个魔法指令再起一个别名，各个可选参数如下  \n",
    "`-l, --line` 对一行代码起别名   \n",
    "`-c, --cell` 对一个单元格起别名  \n",
    "`-p PARAMS, --params PARAMS` 传递进去的参数    \n",
    "以下为示例"
   ]
  },
  {
   "cell_type": "code",
   "execution_count": 37,
   "metadata": {},
   "outputs": [
    {
     "name": "stdout",
     "output_type": "stream",
     "text": [
      "Created `%t` as an alias for `%timeit`.\n",
      "Created `%%t` as an alias for `%%timeit`.\n"
     ]
    }
   ],
   "source": [
    "%alias_magic t timeit"
   ]
  },
  {
   "cell_type": "code",
   "execution_count": 38,
   "metadata": {},
   "outputs": [
    {
     "name": "stdout",
     "output_type": "stream",
     "text": [
      "47.4 ns ± 14.5 ns per loop (mean ± std. dev. of 7 runs, 1 loop each)\n"
     ]
    }
   ],
   "source": [
    "%t -n1 pass"
   ]
  },
  {
   "cell_type": "code",
   "execution_count": 41,
   "metadata": {},
   "outputs": [
    {
     "name": "stderr",
     "output_type": "stream",
     "text": [
      "UsageError: Cell magic function `%%pwd` not found.\n"
     ]
    }
   ],
   "source": [
    "%alias_magic --cell whereami pwd"
   ]
  },
  {
   "cell_type": "code",
   "execution_count": 42,
   "metadata": {},
   "outputs": [
    {
     "name": "stdout",
     "output_type": "stream",
     "text": [
      "Created `%whereami` as an alias for `%pwd`.\n"
     ]
    }
   ],
   "source": [
    "%alias_magic --line whereami pwd"
   ]
  },
  {
   "cell_type": "code",
   "execution_count": 44,
   "metadata": {},
   "outputs": [
    {
     "data": {
      "text/plain": [
       "'/Users/chenglong/Documents/dat480'"
      ]
     },
     "execution_count": 44,
     "metadata": {},
     "output_type": "execute_result"
    }
   ],
   "source": [
    "%whereami"
   ]
  },
  {
   "cell_type": "markdown",
   "metadata": {},
   "source": [
    "### auto wait\n",
    "指令异步执行"
   ]
  },
  {
   "cell_type": "markdown",
   "metadata": {},
   "source": [
    "### %auto call\n",
    "允许函数不需要括号就进行调用  \n",
    "一共有三种模式：0->关闭、1->智能、2->完全。如果未给出，则打开和关闭该功能。"
   ]
  },
  {
   "cell_type": "markdown",
   "metadata": {},
   "source": [
    "0 -> 完全禁用"
   ]
  },
  {
   "cell_type": "markdown",
   "metadata": {},
   "source": [
    "1 -> 激活，但如果行中没有参数，则不适用。"
   ]
  },
  {
   "cell_type": "code",
   "execution_count": 53,
   "metadata": {},
   "outputs": [
    {
     "name": "stdout",
     "output_type": "stream",
     "text": [
      "Automatic calling is: Smart\n"
     ]
    }
   ],
   "source": [
    "%autocall 1"
   ]
  },
  {
   "cell_type": "code",
   "execution_count": 56,
   "metadata": {},
   "outputs": [
    {
     "name": "stdout",
     "output_type": "stream",
     "text": [
      "------> int(3.33)\n",
      "------> int(3.33)\n"
     ]
    },
    {
     "data": {
      "text/plain": [
       "3"
      ]
     },
     "execution_count": 56,
     "metadata": {},
     "output_type": "execute_result"
    }
   ],
   "source": [
    "int 3.33"
   ]
  },
  {
   "cell_type": "markdown",
   "metadata": {},
   "source": [
    "即使关闭了自动调用，也可以在函数前添加斜杠来实现自动调用'/'"
   ]
  },
  {
   "cell_type": "code",
   "execution_count": 57,
   "metadata": {},
   "outputs": [
    {
     "name": "stdout",
     "output_type": "stream",
     "text": [
      "Automatic calling is: Off\n"
     ]
    }
   ],
   "source": [
    "%autocall 0"
   ]
  },
  {
   "cell_type": "code",
   "execution_count": 59,
   "metadata": {},
   "outputs": [
    {
     "data": {
      "text/plain": [
       "3"
      ]
     },
     "execution_count": 59,
     "metadata": {},
     "output_type": "execute_result"
    }
   ],
   "source": [
    "/int 3.33"
   ]
  },
  {
   "cell_type": "markdown",
   "metadata": {},
   "source": [
    "2 -> 始终处于活动状态。即使未对函数制定参数，也会调用可调用对象："
   ]
  },
  {
   "cell_type": "code",
   "execution_count": 61,
   "metadata": {},
   "outputs": [
    {
     "name": "stdout",
     "output_type": "stream",
     "text": [
      "Automatic calling is: Full\n"
     ]
    }
   ],
   "source": [
    "%autocall 2"
   ]
  },
  {
   "cell_type": "code",
   "execution_count": 62,
   "metadata": {},
   "outputs": [
    {
     "name": "stdout",
     "output_type": "stream",
     "text": [
      "------> float()\n",
      "------> float()\n"
     ]
    },
    {
     "data": {
      "text/plain": [
       "0.0"
      ]
     },
     "execution_count": 62,
     "metadata": {},
     "output_type": "execute_result"
    }
   ],
   "source": [
    "float"
   ]
  },
  {
   "cell_type": "markdown",
   "metadata": {},
   "source": [
    "### %auto\n",
    "使不添加'%'也可以完成魔法函数的调用。\n",
    "- on, 1, True: 激活  \n",
    "- off, 0, False：关闭  \n",
    "这里和上边alias一样，魔法指令的优先级最低，如果kernel中出现其他变量同样命名，那么只有将他们删除了，才轮到魔法指令。"
   ]
  },
  {
   "cell_type": "markdown",
   "metadata": {},
   "source": [
    "### %bookmark\n",
    "Ipython具有它的书签系统，书签的目的其实就是对一个文件夹起一个别名，从而快速跳转或者访问一个文件夹  \n",
    "\n",
    "`%bookmark <name>` - 将书签设置为当前目录   \n",
    "`%bookmark <name> <dir>` - 将书签设置为dir   \n",
    "`%bookmark -l` - 列出所有书签   \n",
    "`%bookmark -d` <name> - 删除书签   \n",
    "`%bookmark -r` - 删除所有书签  "
   ]
  },
  {
   "cell_type": "code",
   "execution_count": 28,
   "metadata": {},
   "outputs": [],
   "source": [
    "%bookmark doodle /home"
   ]
  },
  {
   "cell_type": "code",
   "execution_count": 29,
   "metadata": {},
   "outputs": [
    {
     "name": "stdout",
     "output_type": "stream",
     "text": [
      "Current bookmarks:\n",
      "doodle -> /home\n",
      "pig    -> /Users/chenglong/Documents/dat480\n"
     ]
    }
   ],
   "source": [
    "%bookmark -l"
   ]
  },
  {
   "cell_type": "markdown",
   "metadata": {},
   "source": [
    "### %cd\n",
    "更改当前所在的文件夹目录，\n",
    "\n",
    "`cd 'dir'` - 更改目录'dir'   \n",
    "`cd -` - 更改为上次访问的目录   \n",
    "`cd -<n>` - 更改到目录历史记录中的第 n 个目录   \n",
    "`cd --foo` - 切换到历史中匹配 'foo' 的目录   \n",
    "`cd -b <bookmark_name>` - 跳转到 %bookmark 设置的书签  "
   ]
  },
  {
   "cell_type": "code",
   "execution_count": 30,
   "metadata": {},
   "outputs": [
    {
     "name": "stdout",
     "output_type": "stream",
     "text": [
      "(bookmark:doodle) -> /home\n",
      "/System/Volumes/Data/home\n"
     ]
    }
   ],
   "source": [
    "cd -b doodle"
   ]
  },
  {
   "cell_type": "markdown",
   "metadata": {},
   "source": [
    "可以看到，上边的每一次切换之后，都会打印出来切换之后的目录，可以增加`-q`，也就是quiet，就不会打印切换到的目录了。"
   ]
  },
  {
   "cell_type": "code",
   "execution_count": 81,
   "metadata": {},
   "outputs": [
    {
     "name": "stdout",
     "output_type": "stream",
     "text": [
      "(bookmark:pig) -> /Users/chenglong/Documents/dat480\n"
     ]
    }
   ],
   "source": [
    "cd -b -q pig"
   ]
  },
  {
   "cell_type": "markdown",
   "metadata": {},
   "source": [
    "请注意，可能有朋友会觉得`!cd`不可以了吗？其实是不行的，`!command`执行的shell命令会在执行之后立刻被丢弃，所以谨慎使用这个。"
   ]
  },
  {
   "cell_type": "code",
   "execution_count": 32,
   "metadata": {},
   "outputs": [
    {
     "data": {
      "text/plain": [
       "'/Users/chenglong/Documents/dat480'"
      ]
     },
     "execution_count": 32,
     "metadata": {},
     "output_type": "execute_result"
    }
   ],
   "source": [
    "pwd"
   ]
  },
  {
   "cell_type": "code",
   "execution_count": 33,
   "metadata": {},
   "outputs": [],
   "source": [
    "!cd /home"
   ]
  },
  {
   "cell_type": "code",
   "execution_count": 34,
   "metadata": {},
   "outputs": [
    {
     "data": {
      "text/plain": [
       "'/Users/chenglong/Documents/dat480'"
      ]
     },
     "execution_count": 34,
     "metadata": {},
     "output_type": "execute_result"
    }
   ],
   "source": [
    "pwd"
   ]
  },
  {
   "cell_type": "markdown",
   "metadata": {},
   "source": [
    "### %color\n",
    "切换提示、信息系统和异常处理程序的配色方案。  \n",
    "目前实施的方案：NoColor、Linux、LightBG。  \n",
    "颜色方案名称不区分大小写。  \n",
    "例子  \n",
    "要获得一个普通的黑白终端：  \n",
    "`%colors nocolor`"
   ]
  },
  {
   "cell_type": "markdown",
   "metadata": {},
   "source": [
    "### %conda\n",
    "在当前内核中运行 conda 包管理器  \n",
    "`%codna  install [pkgs]`"
   ]
  },
  {
   "cell_type": "markdown",
   "metadata": {},
   "source": [
    "### %config\n",
    "对IPython系统进行配置  \n",
    "`%config Class.trait=value`"
   ]
  },
  {
   "cell_type": "markdown",
   "metadata": {},
   "source": [
    "### %debug\n",
    "启用Ipython中可交互的调试器  \n",
    "`%debug [--breakpoint FILE:LINE] [statement [statement ...]]`\n",
    "这个调试器怎么用的，我还没有太明白，之后用到了再回来补上"
   ]
  },
  {
   "cell_type": "markdown",
   "metadata": {},
   "source": [
    "### %dhist\n",
    "打印出历史浏览过的文件夹  \n",
    "`%dhist` -> print full history  \n",
    "`%dhist n` -> print last n entries only  \n",
    "`%dhist n1 n2` -> print entries between n1 and n2 (n2 not included)  "
   ]
  },
  {
   "cell_type": "code",
   "execution_count": 3,
   "metadata": {},
   "outputs": [
    {
     "name": "stdout",
     "output_type": "stream",
     "text": [
      "/System/Volumes/Data/home\n"
     ]
    }
   ],
   "source": [
    "cd /home"
   ]
  },
  {
   "cell_type": "code",
   "execution_count": 4,
   "metadata": {},
   "outputs": [
    {
     "name": "stdout",
     "output_type": "stream",
     "text": [
      "Directory history (kept in _dh)\n",
      "0: /Users/chenglong/Documents/dat480\n",
      "1: /Users/chenglong/Documents/dat480\n",
      "2: /System/Volumes/Data/home\n"
     ]
    }
   ],
   "source": [
    "%dhist"
   ]
  },
  {
   "cell_type": "markdown",
   "metadata": {},
   "source": [
    "### %dirs\n",
    "返回当在的目录堆栈"
   ]
  },
  {
   "cell_type": "markdown",
   "metadata": {},
   "source": [
    "### %doctest_mode\n",
    "打开以及关闭doctest模式。这个模式使其的返回以及提示就像在Python的shell里面，让会话的部分复制和粘贴变得更加容易，主要做了一下几点\n",
    "- 将提示更改为经典提示>>>。\n",
    "- 将异常报告模式更改为“普通”。\n",
    "- 禁用输出的漂亮打印。  \n",
    "通过这个，就可以快速进行文本的输入导出，而不需要离开现有的IPython会话。"
   ]
  },
  {
   "cell_type": "code",
   "execution_count": 23,
   "metadata": {},
   "outputs": [
    {
     "name": "stdout",
     "output_type": "stream",
     "text": [
      "Exception reporting mode: Plain\n",
      "Doctest mode is: ON\n"
     ]
    }
   ],
   "source": [
    "%doctest_mode"
   ]
  },
  {
   "cell_type": "code",
   "execution_count": 24,
   "metadata": {},
   "outputs": [
    {
     "ename": "NameError",
     "evalue": "name 'test' is not defined",
     "output_type": "error",
     "traceback": [
      "Traceback \u001b[0;36m(most recent call last)\u001b[0m:\n",
      "\u001b[0;36m  Cell \u001b[0;32mIn [24], line 1\u001b[0;36m\n\u001b[0;31m    test\u001b[0;36m\n",
      "\u001b[0;31mNameError\u001b[0m\u001b[0;31m:\u001b[0m name 'test' is not defined\n"
     ]
    }
   ],
   "source": [
    "test"
   ]
  },
  {
   "cell_type": "code",
   "execution_count": 25,
   "metadata": {},
   "outputs": [
    {
     "name": "stdout",
     "output_type": "stream",
     "text": [
      "Exception reporting mode: Context\n",
      "Doctest mode is: OFF\n"
     ]
    }
   ],
   "source": [
    "%doctest_mode"
   ]
  },
  {
   "cell_type": "code",
   "execution_count": 26,
   "metadata": {},
   "outputs": [
    {
     "ename": "NameError",
     "evalue": "name 'test' is not defined",
     "output_type": "error",
     "traceback": [
      "\u001b[0;31m---------------------------------------------------------------------------\u001b[0m",
      "\u001b[0;31mNameError\u001b[0m                                 Traceback (most recent call last)",
      "Cell \u001b[0;32mIn [26], line 1\u001b[0m\n\u001b[0;32m----> 1\u001b[0m \u001b[43mtest\u001b[49m\n",
      "\u001b[0;31mNameError\u001b[0m: name 'test' is not defined"
     ]
    }
   ],
   "source": [
    "test"
   ]
  },
  {
   "cell_type": "markdown",
   "metadata": {},
   "source": [
    "### %edit\n",
    "调用出一个指定的编辑器对代码进行修改"
   ]
  },
  {
   "cell_type": "markdown",
   "metadata": {},
   "source": [
    "### %env\n",
    "获取、设置并列出环境变量，用法如下：\n",
    "`%env `           列出所有环境变量/值\n",
    "\n",
    "`%env var`        获取 var 的值\n",
    "\n",
    "`%env var val`    为 var 设置值\n",
    "\n",
    "`%env var=val`    为 var 设置值\n",
    "\n",
    "`%env var=$val`   为 var 设置值，如果可能，使用 python 扩展"
   ]
  },
  {
   "cell_type": "markdown",
   "metadata": {},
   "source": [
    "### %gui\n",
    "启用或者禁用IPython GUI事件"
   ]
  },
  {
   "cell_type": "markdown",
   "metadata": {},
   "source": [
    "### %history\n",
    "`%history [-n] [-o] [-p] [-t] [-f FILENAME] [-g [PATTERN [PATTERN ...]]]\n",
    "             [-l [LIMIT]] [-u]\n",
    "             [range [range ...]]`  \n",
    "打印历史输入。  \n",
    "可选参数：\n",
    "`-n`\n",
    "打印每个输入的行号。此功能仅在使用编号提示时可用。\n",
    "\n",
    "`-o`\n",
    "接着打印每个输入的输出。\n",
    "\n",
    "`-p`\n",
    "在每个输入之前打印经典的 '>>>' python 提示。这对于制作文档很有用，并且与 -o 一起用于生成 doctest-ready 输出。\n",
    "\n",
    "`-t`\n",
    "按照 IPython 的理解，打印“翻译的”历史。IPython 过滤您的输入并在执行之前将其全部转换为有效的 Python 源代码（例如，魔术或别名之类的东西会转换为函数调用）。使用此选项，您将看到本机历史记录而不是用户输入的版本：'%cd /' 将被视为 'get_ipython().run_line_magic(“cd”, “/”)' 而不是 '%cd / '。\n",
    "\n",
    "`-f FILENAME`\n",
    "文件名：不是将输出打印到屏幕上，而是将其重定向到给定的文件。该文件总是被覆盖，但当它可以时，IPython 会首先要求确认。特别是，从 IPython Notebook 界面运行命令“history -f FILENAME”将替换 FILENAME，即使它已经存在而没有确认。\n",
    "\n",
    "`-g <[PATTERN [PATTERN …]]>`\n",
    "将 arg 视为全局模式以在（完整）历史中搜索。这包括保存的历史记录（几乎所有曾经编写过的命令）。该模式可能包含“？” 匹配一个未知字符，'*' 匹配任意数量的未知字符。使用 '%hist -g' 显示完整保存的历史记录（可能很长）。\n",
    "\n",
    "`-l <[LIMIT]>`\n",
    "获取所有会话的最后 n 行。将 n 指定为单个 arg，或默认为最后 10 行。\n",
    "\n",
    "`-u`\n",
    "使用 搜索历史记录时-g，仅显示唯一历史记录。"
   ]
  },
  {
   "cell_type": "code",
   "execution_count": 56,
   "metadata": {},
   "outputs": [
    {
     "name": "stdout",
     "output_type": "stream",
     "text": [
      "   1: >>> %dhist\n",
      "   2: >>> cd /hone\n",
      "   3: >>> cd /home\n",
      "   4: >>> %dhist\n",
      "   5: >>> %dhist 1\n",
      "   6: >>> %dhist\n"
     ]
    }
   ],
   "source": [
    "%history -n 1-6 -p -o"
   ]
  },
  {
   "cell_type": "markdown",
   "metadata": {},
   "source": [
    "### %killbgscripts\n",
    "结束由%%script开启的进程以及其子进程"
   ]
  },
  {
   "cell_type": "markdown",
   "metadata": {},
   "source": [
    "### %load\n",
    "将代码加载到当前前端，能够将指定位置的py代码直接load到前端  \n",
    "用法：\n",
    "%load [source]\n",
    "\n",
    "其中 source 可以是文件名、URL、输入历史范围、宏或用户命名空间中的元素。\n",
    "\n",
    "相关选项：\n",
    "-r <lines>：指定要从源加载的行或行范围。范围可以指定为 xy (x..y) 或 python 样式的 x:y (x..(y-1))。限制 x 和 y 都可以留空（分别表示文件的开头和结尾）。\n",
    "\n",
    "-s <symbols>：指定要从 python 源加载的函数或类。\n",
    "\n",
    "-y ：不要求确认加载超过 200 000 个字符的源。\n",
    "\n",
    "-n ：搜索源代码时包含用户的命名空间。"
   ]
  },
  {
   "cell_type": "markdown",
   "metadata": {},
   "source": [
    "### %load_ext\n",
    "按模块名称加载 IPython 扩展。"
   ]
  },
  {
   "cell_type": "markdown",
   "metadata": {},
   "source": [
    "### %loadpy\n",
    "和`%load`功能类似，具有更高的灵活性，不仅仅局限于.py文件"
   ]
  },
  {
   "cell_type": "markdown",
   "metadata": {},
   "source": [
    "### %logoff\n",
    "暂时停止日志记录"
   ]
  },
  {
   "cell_type": "markdown",
   "metadata": {},
   "source": [
    "### %logon\n",
    "重新开始日志记录。这个仅限于之前使用`%logoff`关闭之后再次启用。如果是第一次开启，那么就要使用`%logstart`启用。"
   ]
  },
  {
   "cell_type": "markdown",
   "metadata": {},
   "source": [
    "### %logstart\n",
    "在session内部任何地方开始记录日志。 \n",
    "`%logstart [-o|-r|-t|-q] [log_name [log_mode]]`  \n",
    "如果没有指定名字，默认会在当前文件夹下创建一个‘ipython_log.py’，并且以'rotate'方式。\n",
    "日志记录的方式有以下几种：\n",
    "`append`\n",
    "在任何现有文件的末尾继续记录。\n",
    "\n",
    "`backup`\n",
    "将任何现有文件重命名为 name~ 和 start name。\n",
    "\n",
    "`global`\n",
    "附加到主目录中的单个日志文件。\n",
    "\n",
    "`over`\n",
    "覆盖任何现有日志。\n",
    "\n",
    "`rotate`\n",
    "创建轮换日志：name.1~、name.2~等。\n",
    "同时可以设置选型\n"
   ]
  },
  {
   "cell_type": "markdown",
   "metadata": {},
   "source": [
    "### %logstate\n",
    "打印当前日志系统状态"
   ]
  },
  {
   "cell_type": "markdown",
   "metadata": {},
   "source": [
    "### %logstop\n",
    "彻底停止日志记录，并且关闭日志文件。  \n",
    "如果想要重新开始日志记录，需要重新跑一下`%logstart`，并且制定一个新的文件名称，记录方式以及其它选项。"
   ]
  },
  {
   "cell_type": "markdown",
   "metadata": {},
   "source": [
    "### %lsmagic\n",
    "展示目前可用的魔法指令"
   ]
  },
  {
   "cell_type": "markdown",
   "metadata": {},
   "source": [
    "### %macro\n",
    "创建宏指令，未来可以随时运行。它可以是历史指令的一部分，一个外部文件或者字符串对象。\n",
    "\n",
    "使用方法  \n",
    "`%macro [options] name n1-n2 n3-n4 … n5 .. n6 …`  \n",
    "选项：\n",
    "\n",
    "-r：使用“原始”输入。默认情况下，使用“已处理”历史记录，以便将魔法在其转换后的版本中加载为有效的 Python。如果给出此选项，则使用在命令行键入的原始输入。\n",
    "\n",
    "-q：安静的宏定义。默认情况下，会打印一个标记行以指示已创建宏，然后打印宏的内容。如果给出了这个选项，那么一旦创建了宏就不会产生打印输出。\n",
    "\n",
    "通过macro这个魔法指令，将定义一个名为的全局变量name，它的数据类型是一个字符串。这个字符串从输入历史中指定的行（上面的 n1，n2，... 数字）连接成一个字符串。这个变量就像一个自动函数一样重新执行这些行，就好像你已经输入了它们一样。您只需在提示符处键入“名称”，代码就会执行。\n",
    "\n",
    "例如，如果历史记录是  \n",
    "`\n",
    "44: x=1    \n",
    "45: y=3   \n",
    "46: z=x+y   \n",
    "47: print x   \n",
    "48: a=5   \n",
    "49: print 'x',x,'y',y   \n",
    "`  \n",
    "可以使用，44～47行以及49行创建一个叫做my_macro的宏  \n",
    "`%macro my_macro 44-47 49`  \n",
    "现在通过直接运行my_macro就可以直接运行这些代码。在以上创建宏的时候，不需要以及原代码顺序给出，并且一行大妈可以出现多次，可以以任何顺序将历史记录中的任何行组合成宏。可以通过\n",
    "`print(macro_name)`  \n",
    "来查看宏里面的内容。\n"
   ]
  },
  {
   "cell_type": "markdown",
   "metadata": {},
   "source": [
    "### %magic\n",
    "打印有关于魔法功能系统的信息，支持以下格式\n",
    "`-latex, -brief, -rest`"
   ]
  },
  {
   "cell_type": "markdown",
   "metadata": {},
   "source": [
    "### %matplotlib\n",
    "设置支持matplotlib以交互方式工作。  "
   ]
  },
  {
   "cell_type": "markdown",
   "metadata": {},
   "source": [
    "### %notebook\n",
    "导出该Ipython notebook其中历史运行过的python代码，其实也就是把%history里面的那些，每一个号对应一个cell进行导出。  \n",
    "`%notebook filename`"
   ]
  },
  {
   "cell_type": "markdown",
   "metadata": {},
   "source": [
    "### %page\n",
    "这个还没搞明白到底是干嘛的。\n",
    "说明是：漂亮地打印对象并通过pager显示。"
   ]
  },
  {
   "cell_type": "markdown",
   "metadata": {},
   "source": [
    "### %pastebin\n",
    "将代码上传到 dpaste.com，返回 URL。目的是将代码传到dpaste上边用来寄存或者分享。\n",
    "\n",
    "用法：\n",
    "%pastebin [-d “自定义描述”][-e 24] 1-7\n",
    "\n",
    "参数可以是输入历史范围、文件名或字符串或宏的名称。\n",
    "\n",
    "如果没有给出参数，则上传此会话的历史记录。\n",
    "\n",
    "选项：\n",
    "\n",
    "-d：传递自定义描述。默认会说\n",
    "“从 IPython 粘贴”。\n",
    "\n",
    "-e：链接过期的天数。\n",
    "默认值为 7 天。"
   ]
  },
  {
   "cell_type": "markdown",
   "metadata": {},
   "source": [
    "### %pdb\n",
    "控制pdb调试器的自动调用。\n",
    "\n",
    "调用为“%pdb on”、“%pdb 1”、“%pdb off”或“%pdb 0”。  \n",
    "如果在没有参数的情况下调用它，它将作为切换。\n",
    "\n",
    "当触发异常时，IPython 可以选择在回溯打印输出后调用交互式 pdb 调试器。%pdb 打开和关闭此功能。\n",
    "\n",
    "此功能的初始状态在您的配置文件中设置（选项为InteractiveShell.pdb）。\n",
    "\n",
    "如果您只想在触发异常后激活调试器，而无需键入“%pdb on”并重新运行代码，则可以使用 %debug 魔法。"
   ]
  },
  {
   "cell_type": "markdown",
   "metadata": {},
   "source": [
    "### %pdef\n",
    "打印任何可调用对象的调用签名。\n",
    "\n",
    "如果对象是一个类，则打印构造函数信息。\n",
    "\n",
    "例子"
   ]
  },
  {
   "cell_type": "code",
   "execution_count": 47,
   "metadata": {},
   "outputs": [],
   "source": [
    "class pig():\n",
    "    def __init__(self):\n",
    "        # djaisdjo\n",
    "        print('Hlelo world')\n",
    "        self.noice = 'hengheng'"
   ]
  },
  {
   "cell_type": "code",
   "execution_count": 48,
   "metadata": {},
   "outputs": [
    {
     "name": "stdout",
     "output_type": "stream",
     "text": [
      "\u001b[0;31mClass constructor information:\n",
      "\u001b[0m \u001b[0mpig\u001b[0m\u001b[0;34m(\u001b[0m\u001b[0;34m)\u001b[0m\u001b[0;34m\u001b[0m\u001b[0;34m\u001b[0m\u001b[0m\n",
      " "
     ]
    }
   ],
   "source": [
    "%pdef pig"
   ]
  },
  {
   "cell_type": "markdown",
   "metadata": {},
   "source": [
    "### %pdoc\n",
    "打印对象的文档字符串。  \n",
    "如果给定的对象是一个类，它将打印类和构造函数的文档字符串。"
   ]
  },
  {
   "cell_type": "markdown",
   "metadata": {},
   "source": [
    "### %pfile\n",
    "将本地用来定义对象的py文件进行print。\n",
    "\n",
    "该文件在对象定义开始的那一行打开。如果设置了环境变量 PAGER，IPython 将尊重环境变量，否则将尽最大努力以方便的形式打印文件。\n",
    "\n",
    "如果给定的参数不是当前定义的对象，IPython 将尝试将其解释为文件名（如果需要，会自动添加 .py 扩展名）。"
   ]
  },
  {
   "cell_type": "markdown",
   "metadata": {},
   "source": [
    "### %pinfo\n",
    "提供有关对象的详细信息。"
   ]
  },
  {
   "cell_type": "markdown",
   "metadata": {},
   "source": [
    "### %pinfo2\n",
    "提供有关对象的额外信息。"
   ]
  },
  {
   "cell_type": "code",
   "execution_count": 54,
   "metadata": {},
   "outputs": [
    {
     "name": "stdout",
     "output_type": "stream",
     "text": [
      "\u001b[0;31mInit signature:\u001b[0m \u001b[0mpig\u001b[0m\u001b[0;34m(\u001b[0m\u001b[0;34m)\u001b[0m\u001b[0;34m\u001b[0m\u001b[0;34m\u001b[0m\u001b[0m\n",
      "\u001b[0;31mDocstring:\u001b[0m      <no docstring>\n",
      "\u001b[0;31mType:\u001b[0m           type\n",
      "\u001b[0;31mSubclasses:\u001b[0m     \n"
     ]
    }
   ],
   "source": [
    "%pinfo pig"
   ]
  },
  {
   "cell_type": "markdown",
   "metadata": {},
   "source": [
    "### %pip\n",
    "在当前内核中运行 pip 包管理器。\n",
    "用法：  \n",
    "`%pip install [pkgs]`"
   ]
  },
  {
   "cell_type": "markdown",
   "metadata": {},
   "source": [
    "### %popd\n",
    "切换到从堆栈顶部弹出的目录。"
   ]
  },
  {
   "cell_type": "markdown",
   "metadata": {},
   "source": [
    "### %pprint\n",
    "打开/关闭漂亮的打印。"
   ]
  },
  {
   "cell_type": "code",
   "execution_count": 58,
   "metadata": {},
   "outputs": [
    {
     "name": "stdout",
     "output_type": "stream",
     "text": [
      "Pretty printing has been turned ON\n"
     ]
    }
   ],
   "source": [
    "%pprint"
   ]
  },
  {
   "cell_type": "markdown",
   "metadata": {},
   "source": [
    "### %precision\n",
    "为漂亮的打印设置浮点精度。\n",
    "\n",
    "可以设置整数精度或格式字符串。\n",
    "\n",
    "如果已导入 numpy 且精度为 int，则还将设置 numpy 显示精度，通过numpy.set_printoptions."
   ]
  },
  {
   "cell_type": "code",
   "execution_count": 59,
   "metadata": {},
   "outputs": [
    {
     "data": {
      "text/plain": [
       "'%.3f'"
      ]
     },
     "execution_count": 59,
     "metadata": {},
     "output_type": "execute_result"
    }
   ],
   "source": [
    "%precision 3"
   ]
  },
  {
   "cell_type": "markdown",
   "metadata": {},
   "source": [
    "### %prun\n",
    "启动python代码的profiler。\n",
    "profiler就是诊断以及记录代码各个部分运行信息的东西，比如运行的时间，常常在优化代码的时候使用。\n",
    "它有两种使用方法：\n",
    "行模式:\n",
    "`%prun [options] statement`\n",
    "\n",
    "代码cell模式:\n",
    "`%%prun [options] [statement] code… code…`\n",
    "\n",
    "在单元格模式下，附加的代码行被附加到第一行的（可能是空的）语句中。单元模式允许您轻松分析多行块，而无需将它们放在单独的函数中。\n",
    "\n",
    "给定的语句（不需要引号）通过 python 分析器以类似于 profile.run() 函数的方式运行。命名空间在内部进行管理以正常工作；profile.run 不能在 IPython 中使用，因为它对不在 IPython 下的命名空间做出了某些假设。\n",
    "\n",
    "选项：\n",
    "\n",
    "-l <limit>\n",
    "您可以限制要打印的配置文件的内容或数量。就通过-l来限制输出：\n",
    "包括以下三种输出内容的方式，根据输入的option，将自动调整输出内容\n",
    "- 字符串：仅打印包含此字符串的函数名称的信息。\n",
    "- 一个整数：就打印这么多行\n",
    "- 浮点数（介于 0 和 1 之间）：打印报告的这一部分（例如，使用 0.4 的限制来仅查看最上面的 40%）。\n",
    "\n",
    "您可以将多个限制与重复使用该选项结合起来。例如，将只打印关于类构造函数的最上面的 5 行信息。-l __init__ -l 5\n",
    "\n",
    "-r\n",
    "返回分析生成的 pstats.Stats 对象。该对象包含有关配置文件的所有信息，可以稍后将其用于进一步分析或其他功能。\n",
    "\n",
    "-s <key>\n",
    "根据指定的key来对结果进行排序。您可以通过多次使用该选项来提供多个密钥：'-s key1 -s key2 -s key3...'。默认根据时间降序排列。\n",
    "\n",
    "以下内容是从下面引用的配置文件文档中逐字复制的：\n",
    "\n",
    "如果提供了多个键，则当在它们之前选择的所有键中存在相等时，其他键将用作辅助条件。\n",
    "\n",
    "缩写可以用于任何键名，只要缩写是明确的。以下是当前定义的键：\n",
    "\n",
    "| 有效参数 | 意义 |\n",
    "|  ----  | ----  |\n",
    "| calls | 调用次数 |\n",
    "| cumulative | 累计时间 |\n",
    "| file | 文件名称 |\n",
    "| module | 模块名称 |\n",
    "| pcalls | primitive call count |\n",
    "| line | 代码行号 |\n",
    "| name | 函数名称 |\n",
    "| nfl | 名称/文件/行(name/file/line) |\n",
    "| stdname | 标准名称 |\n",
    "| time | 内部时间 |\n",
    "\n",
    "请注意，统计数据的所有排序都是按降序排列（将最耗时的项目放在首位），其中名称、文件和行号搜索按升序排列（即字母顺序）。“nfl”和“stdname”之间的细微区别在于标准名称是一种打印名称，这意味着嵌入的行号以一种奇怪的方式进行比较。例如，第 3、20 和 40 行（如果文件名相同）将以字符串顺序“20”“3”和“40”出现。相反，“nfl”对行号进行数字比较。其实 sort_stats(“nfl”) 和 sort_stats(“name”, “file”, “line”) 是一样的。\n",
    "\n",
    "-T <filename>\n",
    "将屏幕上显示的配置文件结果保存到文本文件中。配置文件仍显示在屏幕上。\n",
    "\n",
    "-D <filename>\n",
    "将（通过 dump_stats）配置文件统计信息保存到给定的文件名。此数据采用 pstats 模块可以理解的格式，并通过调用配置文件对象的 dump_stats() 方法生成。配置文件仍显示在屏幕上。\n",
    "\n",
    "-q\n",
    "禁止输出到pager。最好与上面的 -T 和/或 -D 一起使用。\n",
    "\n",
    "如果您想在探查器的控制下运行完整的程序，请使用 where prof_opts 包含探查器特定选项，如此处所述。  \n",
    "\n",
    "`%run -p [prof_opts] filename.py [args to program]`\n",
    "\n",
    "可通过以下命令阅读完整文档  \n",
    "`import profile; profile.help()`"
   ]
  },
  {
   "cell_type": "markdown",
   "metadata": {},
   "source": [
    "### %psearch\n",
    "通过通配符，在母亲啊的命名空间中搜索存在的对象。"
   ]
  },
  {
   "cell_type": "markdown",
   "metadata": {},
   "source": [
    "### %psource\n",
    "打印（或通过寻呼机运行）对象的源代码。"
   ]
  },
  {
   "cell_type": "markdown",
   "metadata": {},
   "source": [
    "### %push\n",
    "将当前目录放在堆栈上并更改目录。"
   ]
  },
  {
   "cell_type": "markdown",
   "metadata": {},
   "source": [
    "### %pwd\n",
    "返回当前工作目录路径。"
   ]
  },
  {
   "cell_type": "markdown",
   "metadata": {},
   "source": [
    "### %pycat\n",
    "他类似shell中的cat命令，不目标是python代码，可以解释history、py文件、macro以及url。"
   ]
  },
  {
   "cell_type": "code",
   "execution_count": 70,
   "metadata": {},
   "outputs": [
    {
     "data": {
      "text/plain": [
       "'/Users/chenglong/Documents/dat480'"
      ]
     },
     "execution_count": 70,
     "metadata": {},
     "output_type": "execute_result"
    }
   ],
   "source": [
    "%pwd"
   ]
  },
  {
   "cell_type": "code",
   "execution_count": 71,
   "metadata": {},
   "outputs": [
    {
     "name": "stdout",
     "output_type": "stream",
     "text": [
      "\u001b[0;32mdef\u001b[0m \u001b[0mfoo\u001b[0m\u001b[0;34m(\u001b[0m\u001b[0;34m)\u001b[0m\u001b[0;34m:\u001b[0m\u001b[0;34m\u001b[0m\n",
      "\u001b[0;34m\u001b[0m    \u001b[0mprint\u001b[0m\u001b[0;34m(\u001b[0m\u001b[0;34m\"i am an idiot\"\u001b[0m\u001b[0;34m)\u001b[0m\u001b[0;34m\u001b[0m\n",
      "\u001b[0;34m\u001b[0m\u001b[0;34m\u001b[0m\n",
      "\u001b[0;34m\u001b[0m\u001b[0;32mclass\u001b[0m \u001b[0mpig\u001b[0m\u001b[0;34m(\u001b[0m\u001b[0;34m)\u001b[0m\u001b[0;34m:\u001b[0m\u001b[0;34m\u001b[0m\n",
      "\u001b[0;34m\u001b[0m    \u001b[0;32mdef\u001b[0m \u001b[0m__init__\u001b[0m\u001b[0;34m(\u001b[0m\u001b[0mself\u001b[0m\u001b[0;34m)\u001b[0m\u001b[0;34m:\u001b[0m\u001b[0;34m\u001b[0m\n",
      "\u001b[0;34m\u001b[0m        \u001b[0;31m# djaisdjo\u001b[0m\u001b[0;34m\u001b[0m\n",
      "\u001b[0;34m\u001b[0m        \u001b[0mprint\u001b[0m\u001b[0;34m(\u001b[0m\u001b[0;34m'Hlelo world'\u001b[0m\u001b[0;34m)\u001b[0m\u001b[0;34m\u001b[0m\n",
      "\u001b[0;34m\u001b[0m        \u001b[0mself\u001b[0m\u001b[0;34m.\u001b[0m\u001b[0mnoice\u001b[0m \u001b[0;34m=\u001b[0m \u001b[0;34m'hengheng'\u001b[0m\u001b[0;34m\u001b[0m\n",
      "\u001b[0;34m\u001b[0m\u001b[0;34m\u001b[0m\n",
      "\u001b[0;34m\u001b[0m\u001b[0mtt\u001b[0m \u001b[0;34m=\u001b[0m \u001b[0mpig\u001b[0m\u001b[0;34m(\u001b[0m\u001b[0;34m)\u001b[0m\u001b[0;34m\u001b[0m\u001b[0;34m\u001b[0m\u001b[0m\n"
     ]
    }
   ],
   "source": [
    "%pycat ./test.py"
   ]
  },
  {
   "cell_type": "markdown",
   "metadata": {},
   "source": [
    "### %pylab\n",
    "加载 numpy 和 matplotlib 以交互工作。\n",
    "\n",
    "此功能可让您在 IPython 会话期间的任何时候激活 pylab（matplotlib、numpy 和交互式支持）。\n",
    "\n",
    "%pylab 将自动进行以下导入：\n",
    "``` python\n",
    "import numpy\n",
    "import matplotlib\n",
    "from matplotlib import pylab, mlab, pyplot\n",
    "np = numpy\n",
    "plt = pyplot\n",
    "\n",
    "from IPython.display import display\n",
    "from IPython.core.pylabtools import figsize, getfigs\n",
    "\n",
    "from pylab import *\n",
    "from numpy import *\n",
    "```\n",
    "\n",
    "暂时停止日志记录"
   ]
  },
  {
   "cell_type": "markdown",
   "metadata": {},
   "source": [
    "### %quickref\n",
    "展示快速引用表"
   ]
  },
  {
   "cell_type": "code",
   "execution_count": 73,
   "metadata": {},
   "outputs": [
    {
     "name": "stdout",
     "output_type": "stream",
     "text": [
      "\n",
      "IPython -- An enhanced Interactive Python - Quick Reference Card\n",
      "================================================================\n",
      "\n",
      "obj?, obj??      : Get help, or more help for object (also works as\n",
      "                   ?obj, ??obj).\n",
      "?foo.*abc*       : List names in 'foo' containing 'abc' in them.\n",
      "%magic           : Information about IPython's 'magic' % functions.\n",
      "\n",
      "Magic functions are prefixed by % or %%, and typically take their arguments\n",
      "without parentheses, quotes or even commas for convenience.  Line magics take a\n",
      "single % and cell magics are prefixed with two %%.\n",
      "\n",
      "Example magic function calls:\n",
      "\n",
      "%alias d ls -F   : 'd' is now an alias for 'ls -F'\n",
      "alias d ls -F    : Works if 'alias' not a python name\n",
      "alist = %alias   : Get list of aliases to 'alist'\n",
      "cd /usr/share    : Obvious. cd -<tab> to choose from visited dirs.\n",
      "%cd??            : See help AND source for magic %cd\n",
      "%timeit x=10     : time the 'x=10' statement with high precision.\n",
      "%%timeit x=2**100\n",
      "x**100           : time 'x**100' with a setup of 'x=2**100'; setup code is not\n",
      "                   counted.  This is an example of a cell magic.\n",
      "\n",
      "System commands:\n",
      "\n",
      "!cp a.txt b/     : System command escape, calls os.system()\n",
      "cp a.txt b/      : after %rehashx, most system commands work without !\n",
      "cp ${f}.txt $bar : Variable expansion in magics and system commands\n",
      "files = !ls /usr : Capture system command output\n",
      "files.s, files.l, files.n: \"a b c\", ['a','b','c'], 'a\\nb\\nc'\n",
      "\n",
      "History:\n",
      "\n",
      "_i, _ii, _iii    : Previous, next previous, next next previous input\n",
      "_i4, _ih[2:5]    : Input history line 4, lines 2-4\n",
      "exec(_i81)       : Execute input history line #81 again\n",
      "%rep 81          : Edit input history line #81\n",
      "_, __, ___       : previous, next previous, next next previous output\n",
      "_dh              : Directory history\n",
      "_oh              : Output history\n",
      "%hist            : Command history of current session.\n",
      "%hist -g foo     : Search command history of (almost) all sessions for 'foo'.\n",
      "%hist -g         : Command history of (almost) all sessions.\n",
      "%hist 1/2-8      : Command history containing lines 2-8 of session 1.\n",
      "%hist 1/ ~2/     : Command history of session 1 and 2 sessions before current.\n",
      "%hist ~8/1-~6/5  : Command history from line 1 of 8 sessions ago to\n",
      "                   line 5 of 6 sessions ago.\n",
      "%edit 0/         : Open editor to execute code with history of current session.\n",
      "\n",
      "Autocall:\n",
      "\n",
      "f 1,2            : f(1,2)  # Off by default, enable with %autocall magic.\n",
      "/f 1,2           : f(1,2) (forced autoparen)\n",
      ",f 1 2           : f(\"1\",\"2\")\n",
      ";f 1 2           : f(\"1 2\")\n",
      "\n",
      "Remember: TAB completion works in many contexts, not just file names\n",
      "or python names.\n",
      "\n",
      "The following magic functions are currently available:\n",
      "\n",
      "%alias:\n",
      "    Define an alias for a system command.\n",
      "%alias_magic:\n",
      "    ::\n",
      "%autoawait:\n",
      "    \n",
      "%autocall:\n",
      "    Make functions callable without having to type parentheses.\n",
      "%automagic:\n",
      "    Make magic functions callable without having to type the initial %.\n",
      "%autosave:\n",
      "    Set the autosave interval in the notebook (in seconds).\n",
      "%bookmark:\n",
      "    Manage IPython's bookmark system.\n",
      "%cat:\n",
      "    Alias for `!cat`\n",
      "%cd:\n",
      "    Change the current working directory.\n",
      "%clear:\n",
      "    Clear the terminal.\n",
      "%colors:\n",
      "    Switch color scheme for prompts, info system and exception handlers.\n",
      "%conda:\n",
      "    Run the conda package manager within the current kernel.\n",
      "%config:\n",
      "    configure IPython\n",
      "%connect_info:\n",
      "    Print information for connecting other clients to this kernel\n",
      "%cp:\n",
      "    Alias for `!cp`\n",
      "%debug:\n",
      "    ::\n",
      "%dhist:\n",
      "    Print your history of visited directories.\n",
      "%dirs:\n",
      "    Return the current directory stack.\n",
      "%doctest_mode:\n",
      "    Toggle doctest mode on and off.\n",
      "%ed:\n",
      "    Alias for `%edit`.\n",
      "%edit:\n",
      "    Bring up an editor and execute the resulting code.\n",
      "%env:\n",
      "    Get, set, or list environment variables.\n",
      "%gui:\n",
      "    Enable or disable IPython GUI event loop integration.\n",
      "%hist:\n",
      "    Alias for `%history`.\n",
      "%history:\n",
      "    ::\n",
      "%killbgscripts:\n",
      "    Kill all BG processes started by %%script and its family.\n",
      "%ldir:\n",
      "    Alias for `!ls -F -G -l %l | grep /$`\n",
      "%less:\n",
      "    Show a file through the pager.\n",
      "%lf:\n",
      "    Alias for `!ls -F -l -G %l | grep ^-`\n",
      "%lk:\n",
      "    Alias for `!ls -F -l -G %l | grep ^l`\n",
      "%ll:\n",
      "    Alias for `!ls -F -l -G`\n",
      "%load:\n",
      "    Load code into the current frontend.\n",
      "%load_ext:\n",
      "    Load an IPython extension by its module name.\n",
      "%loadpy:\n",
      "    Alias of `%load`\n",
      "%logoff:\n",
      "    Temporarily stop logging.\n",
      "%logon:\n",
      "    Restart logging.\n",
      "%logstart:\n",
      "    Start logging anywhere in a session.\n",
      "%logstate:\n",
      "    Print the status of the logging system.\n",
      "%logstop:\n",
      "    Fully stop logging and close log file.\n",
      "%ls:\n",
      "    Alias for `!ls -F -G`\n",
      "%lsmagic:\n",
      "    List currently available magic functions.\n",
      "%lx:\n",
      "    Alias for `!ls -F -l -G %l | grep ^-..x`\n",
      "%macro:\n",
      "    Define a macro for future re-execution. It accepts ranges of history,\n",
      "%magic:\n",
      "    Print information about the magic function system.\n",
      "%man:\n",
      "    Find the man page for the given command and display in pager.\n",
      "%matplotlib:\n",
      "    ::\n",
      "%mkdir:\n",
      "    Alias for `!mkdir`\n",
      "%more:\n",
      "    Show a file through the pager.\n",
      "%mv:\n",
      "    Alias for `!mv`\n",
      "%notebook:\n",
      "    ::\n",
      "%page:\n",
      "    Pretty print the object and display it through a pager.\n",
      "%pastebin:\n",
      "    Upload code to dpaste.com, returning the URL.\n",
      "%pdb:\n",
      "    Control the automatic calling of the pdb interactive debugger.\n",
      "%pdef:\n",
      "    Print the call signature for any callable object.\n",
      "%pdoc:\n",
      "    Print the docstring for an object.\n",
      "%pfile:\n",
      "    Print (or run through pager) the file where an object is defined.\n",
      "%pinfo:\n",
      "    Provide detailed information about an object.\n",
      "%pinfo2:\n",
      "    Provide extra detailed information about an object.\n",
      "%pip:\n",
      "    Run the pip package manager within the current kernel.\n",
      "%popd:\n",
      "    Change to directory popped off the top of the stack.\n",
      "%pprint:\n",
      "    Toggle pretty printing on/off.\n",
      "%precision:\n",
      "    Set floating point precision for pretty printing.\n",
      "%prun:\n",
      "    Run a statement through the python code profiler.\n",
      "%psearch:\n",
      "    Search for object in namespaces by wildcard.\n",
      "%psource:\n",
      "    Print (or run through pager) the source code for an object.\n",
      "%pushd:\n",
      "    Place the current dir on stack and change directory.\n",
      "%pwd:\n",
      "    Return the current working directory path.\n",
      "%pycat:\n",
      "    Show a syntax-highlighted file through a pager.\n",
      "%pylab:\n",
      "    ::\n",
      "%qtconsole:\n",
      "    Open a qtconsole connected to this kernel.\n",
      "%quickref:\n",
      "    Show a quick reference sheet \n",
      "%recall:\n",
      "    Repeat a command, or get command to input line for editing.\n",
      "%rehashx:\n",
      "    Update the alias table with all executable files in $PATH.\n",
      "%reload_ext:\n",
      "    Reload an IPython extension by its module name.\n",
      "%rep:\n",
      "    Alias for `%recall`.\n",
      "%rerun:\n",
      "    Re-run previous input\n",
      "%reset:\n",
      "    Resets the namespace by removing all names defined by the user, if\n",
      "%reset_selective:\n",
      "    Resets the namespace by removing names defined by the user.\n",
      "%rm:\n",
      "    Alias for `!rm`\n",
      "%rmdir:\n",
      "    Alias for `!rmdir`\n",
      "%run:\n",
      "    Run the named file inside IPython as a program.\n",
      "%save:\n",
      "    Save a set of lines or a macro to a given filename.\n",
      "%sc:\n",
      "    Shell capture - run shell command and capture output (DEPRECATED use !).\n",
      "%set_env:\n",
      "    Set environment variables.  Assumptions are that either \"val\" is a\n",
      "%store:\n",
      "    Lightweight persistence for python variables.\n",
      "%sx:\n",
      "    Shell execute - run shell command and capture output (!! is short-hand).\n",
      "%system:\n",
      "    Shell execute - run shell command and capture output (!! is short-hand).\n",
      "%tb:\n",
      "    Print the last traceback.\n",
      "%time:\n",
      "    Time execution of a Python statement or expression.\n",
      "%timeit:\n",
      "    Time execution of a Python statement or expression\n",
      "%unalias:\n",
      "    Remove an alias\n",
      "%unload_ext:\n",
      "    Unload an IPython extension by its module name.\n",
      "%who:\n",
      "    Print all interactive variables, with some minimal formatting.\n",
      "%who_ls:\n",
      "    Return a sorted list of all interactive variables.\n",
      "%whos:\n",
      "    Like %who, but gives some extra information about each variable.\n",
      "%xdel:\n",
      "    Delete a variable, trying to clear it from anywhere that\n",
      "%xmode:\n",
      "    Switch modes for the exception handlers.\n",
      "%%!:\n",
      "    Shell execute - run shell command and capture output (!! is short-hand).\n",
      "%%HTML:\n",
      "    Alias for `%%html`.\n",
      "%%SVG:\n",
      "    Alias for `%%svg`.\n",
      "%%bash:\n",
      "    %%bash script magic\n",
      "%%capture:\n",
      "    ::\n",
      "%%debug:\n",
      "    ::\n",
      "%%file:\n",
      "    Alias for `%%writefile`.\n",
      "%%html:\n",
      "    ::\n",
      "%%javascript:\n",
      "    Run the cell block of Javascript code\n",
      "%%js:\n",
      "    Run the cell block of Javascript code\n",
      "%%latex:\n",
      "    Render the cell as a block of LaTeX\n",
      "%%markdown:\n",
      "    Render the cell as Markdown text block\n",
      "%%perl:\n",
      "    %%perl script magic\n",
      "%%prun:\n",
      "    Run a statement through the python code profiler.\n",
      "%%pypy:\n",
      "    %%pypy script magic\n",
      "%%python:\n",
      "    %%python script magic\n",
      "%%python2:\n",
      "    %%python2 script magic\n",
      "%%python3:\n",
      "    %%python3 script magic\n",
      "%%ruby:\n",
      "    %%ruby script magic\n",
      "%%script:\n",
      "    ::\n",
      "%%sh:\n",
      "    %%sh script magic\n",
      "%%svg:\n",
      "    Render the cell as an SVG literal\n",
      "%%sx:\n",
      "    Shell execute - run shell command and capture output (!! is short-hand).\n",
      "%%system:\n",
      "    Shell execute - run shell command and capture output (!! is short-hand).\n",
      "%%time:\n",
      "    Time execution of a Python statement or expression.\n",
      "%%timeit:\n",
      "    Time execution of a Python statement or expression\n",
      "%%writefile:\n",
      "    ::\n"
     ]
    }
   ],
   "source": [
    "%quickref"
   ]
  },
  {
   "cell_type": "markdown",
   "metadata": {},
   "source": [
    "### %recall\n",
    "重复命令，或获取命令以输入行进行编辑。\n",
    "\n",
    "%recall 和 %rep 是等价的。\n",
    "\n",
    "%recall（无参数）添加进来上一个代码产生的结果，也就是存储在'-'中的那个\n",
    "```python\n",
    "In[1]: l = [\"hei\", \"vaan\"]\n",
    "In[2]: \"\".join(l)\n",
    "Out[2]: heivaan\n",
    "In[3]: %recall\n",
    "In[4]: heivaan_ <== cursor blinking\n",
    "```\n",
    "%recall 45\n",
    "\n",
    "将%history中第 45 行放在下一个输入上。\n",
    "\n",
    "%recall 1-4\n",
    "\n",
    "将指定的行合并到一个单元格中，并将其放在下一个输入提示符上。有关切片语法，请参见 %history。\n",
    "\n",
    "%recall foo+bar\n",
    "\n",
    "如果 foo+bar 可以在用户命名空间中计算，则结果将放置在下一个输入提示符处。否则，将在历史记录中搜索包含该子字符串的行，并将最近的行放在下一个输入提示处。"
   ]
  },
  {
   "cell_type": "markdown",
   "metadata": {},
   "source": [
    "### %rehashx\n",
    "使用 $PATH 中的所有可执行文件更新别名表。\n",
    "\n",
    "rehashx 显式检查 $PATH 中的每个条目是具有执行访问权限的文件 (os.X_OK)。\n",
    "\n",
    "在 Windows 下，它检查可执行性作为与 '|' 分隔的扩展字符串的匹配，该字符串存储在 IPython 配置变量 win_exec_ext 中。这默认为“exe|com|bat”。\n",
    "\n",
    "此函数还重置模块完成器的根模块缓存，用于慢速文件系统。"
   ]
  },
  {
   "cell_type": "markdown",
   "metadata": {},
   "source": [
    "### %reload_ext\n",
    "通过模块名称重新加载 IPython 扩展。"
   ]
  },
  {
   "cell_type": "markdown",
   "metadata": {},
   "source": [
    "### %rerun\n",
    "重新运行之前的输入\n",
    "\n",
    "默认情况下，您可以指定要重新执行的历史指令（与 %history 一样）。如果没有配置参数，那么它将重复最后一行。\n",
    "\n",
    "选项：\n",
    "\n",
    "-l <n> ：重复最后 n 行输入，不包括当前命令。\n",
    "\n",
    "-g foo ：重复包含 foo 的最新行"
   ]
  },
  {
   "cell_type": "markdown",
   "metadata": {},
   "source": [
    "### %reset\n",
    "重制命名空间。\n",
    "通过删除用户定义的所有名称（如果不带参数调用）或删除某些类型的对象来重置命名空间，例如当前在 IPython 的 In[] 和 Out[] 容器中的所有内容（有关详细信息，请参阅参数）。\n",
    "参数\n",
    "\n",
    "-f\n",
    "强制重置而不要求确认。\n",
    "\n",
    "-s\n",
    "“软”重置：仅清除您的命名空间，保留历史记录。可以保留对对象的引用。默认情况下（没有此选项），我们会进行“硬”重置，为您提供一个新会话并从当前会话中删除对对象的所有引用。\n",
    "\n",
    "--aggressive\n",
    "尝试从 sys.modules 中积极删除模块；这可能允许您重新导入已更新的 Python 模块并获取更改，但可能会产生意想不到的后果。\n",
    "\n",
    "in\n",
    "重置输入历史\n",
    "\n",
    "out\n",
    "重置输出历史\n",
    "\n",
    "dhist\n",
    "重置目录历史\n",
    "\n",
    "array\n",
    "仅重置作为 NumPy 数组的变量\n",
    "\n",
    "示例\n",
    "```python\n",
    "In [6]: a = 1\n",
    "\n",
    "In [7]: a\n",
    "Out[7]: 1\n",
    "\n",
    "In [8]: 'a' in get_ipython().user_ns\n",
    "Out[8]: True\n",
    "\n",
    "In [9]: %reset -f\n",
    "\n",
    "In [1]: 'a' in get_ipython().user_ns\n",
    "Out[1]: False\n",
    "\n",
    "In [2]: %reset -f in\n",
    "Flushing input history\n",
    "\n",
    "In [3]: %reset -f dhist in\n",
    "Flushing directory history\n",
    "Flushing input history\n",
    "```"
   ]
  },
  {
   "cell_type": "markdown",
   "metadata": {},
   "source": [
    "### %reset_selective\n",
    "通过删除用户定义的名称来重置命名空间。\n",
    "\n",
    "输入/输出历史会留下来以备不时之需。\n",
    "\n",
    "%reset_selective [-f] 正则表达式\n",
    "\n",
    "如果不包含正则表达式，则不采取任何措施\n",
    "\n",
    "参数-f ：强制重置而不要求确认。\n",
    "\n",
    "例子\n",
    "\n",
    "```python\n",
    "In [1]: %reset -f\n",
    "现在，有了一个干净的命名空间，我们可以创建一些变量并用于 %reset_selective仅删除与我们的正则表达式匹配的名称：\n",
    "\n",
    "In [2]: a=1; b=2; c=3; b1m=4; b2m=5; b3m=6; b4m=7; b2s=8\n",
    "\n",
    "In [3]: who_ls\n",
    "Out[3]: ['a', 'b', 'b1m', 'b2m', 'b2s', 'b3m', 'b4m', 'c']\n",
    "\n",
    "In [4]: %reset_selective -f b[2-3]m\n",
    "\n",
    "In [5]: who_ls\n",
    "Out[5]: ['a', 'b', 'b1m', 'b2s', 'b4m', 'c']\n",
    "\n",
    "In [6]: %reset_selective -f d\n",
    "\n",
    "In [7]: who_ls\n",
    "Out[7]: ['a', 'b', 'b1m', 'b2s', 'b4m', 'c']\n",
    "\n",
    "In [8]: %reset_selective -f c\n",
    "\n",
    "In [9]: who_ls\n",
    "Out[9]: ['a', 'b', 'b1m', 'b2s', 'b4m']\n",
    "\n",
    "In [10]: %reset_selective -f b\n",
    "\n",
    "In [11]: who_ls\n",
    "Out[11]: ['a']\n",
    "```"
   ]
  },
  {
   "cell_type": "markdown",
   "metadata": {},
   "source": [
    "### %run\n",
    "这是一个大的指令，能做不少事儿，思路是在Ipython中跑目标文件。 这一部分的选项太多了，我挑我觉得用处比较大的介绍一下。 \n",
    "用法如下：  \n",
    "```\n",
    "%run [-n -i -e -G]\n",
    "     [( -t [-N<N>] | -d [-b<N>] | -p [profile options] )]\n",
    "     ( -m mod | filename ) [args]\n",
    "```  \n",
    "-t\n",
    "在运行结束时打印计时信息。IPython 将为您的脚本提供估计的 CPU 时间消耗，在 Unix 下使用资源模块来避免 time.clock() 的环绕问题。在 Unix 下，还给出了花费在系统任务上的时间估计值。\n",
    "\n",
    "如果给出 -t，则-N<N>可以给出一个附加选项，其中 <N> 必须是一个整数，指示您希望脚本运行多少次。最终的计时报告将包括总的和每次运行的结果。\n",
    "\n",
    "例如（测试脚本 uniq_stable.py）：\n",
    "\n",
    "```python \n",
    "In [1]: run -t uniq_stable\n",
    "\n",
    "IPython CPU timings (estimated):\n",
    "  User  :    0.19597 s.\n",
    "  System:        0.0 s.\n",
    "\n",
    "In [2]: run -t -N5 uniq_stable\n",
    "\n",
    "IPython CPU timings (estimated):\n",
    "Total runs performed: 5\n",
    "  Times :      Total       Per run\n",
    "  User  :   0.910862 s,  0.1821724 s.\n",
    "  System:        0.0 s,        0.0 s.\n",
    "```\n",
    "\n",
    "-d\n",
    "实际上等同于调用了pdb进行调试，这样就可以逐步执行程序，监视变量等。在内部，IPython 所做的类似于调用：\n",
    "\n",
    "pdb.run('execfile(\"YOURFILENAME\")')\n",
    "在文件的第 1 行设置断点。您可以使用 -bN 选项（其中 N 必须是整数）将此自动断点的行号更改为 <N>。例如：\n",
    "\n",
    "%run -d -b40 myscript\n",
    "将在 myscript.py 的第 40 行设置第一个断点。请注意，第一个断点必须设置在实际执行某些操作（不是注释或文档字符串）的行上才能停止执行。\n",
    "\n",
    "或者您可以在不同的文件中指定断点：\n",
    "\n",
    "%run -d -b myotherfile.py:20 myscript\n",
    "当 pdb 调试器启动时，您将看到 (Pdb) 提示符。您必须先输入“c”（不带引号）才能开始执行到第一个断点。\n",
    "\n",
    "输入“帮助”提供有关使用调试器的信息。您可以在提示符下使用“import pdb;pdb.help()”轻松查看 pdb 的完整文档。\n",
    "\n",
    "-p\n",
    "对程序调用profile模块，相当于prun\n",
    "\n",
    "您可以在 -p 之后传递其他选项，这些选项会影响profiler本身的行为。有关详细信息，请参阅 %prun 的文档。\n",
    "\n",
    "在这种模式下，程序的变量不会传播回 IPython 交互式命名空间（因为它们保留在探查器执行它们的命名空间中）。\n",
    "\n",
    "在内部，这会触发对 %prun 的调用，请参阅其文档以获取有关专门用于分析的选项的详细信息。\n",
    "\n",
    "上面的文本有一种特殊用法不适用：如果文件名以 .ipy[nb] 结尾，则文件将作为 ipython 脚本运行，就像在 IPython 提示符下编写命令一样。"
   ]
  },
  {
   "cell_type": "markdown",
   "metadata": {},
   "source": [
    "### %save\n",
    "将一组代码行或者一个宏保存出来。\n",
    "Usage:\n",
    "`%save [options] filename [history]`  \n",
    "选项：\n",
    "\n",
    "-r：使用“原始”输入。默认情况下，使用“已处理”历史记录，以便将魔法在其转换后的版本中加载为有效的 Python。如果给出此选项，则使用作为命令行键入的原始输入。\n",
    "\n",
    "-f：强制覆盖。如果文件存在，%save 将提示覆盖，除非给出 -f。\n",
    "\n",
    "-a：附加到文件而不是覆盖它。\n",
    "\n",
    "history 参数对输入范围使用与 %history 相同的语法，然后将行保存到您指定的文件名。\n",
    "\n",
    "如果未指定范围，则保存当前会话的历史记录。\n",
    "\n",
    "如果您自己不这样做，它会在文件中添加“.py”扩展名，并在覆盖现有文件之前要求确认。\n",
    "\n",
    "如果使用了-r，则保存的代码默认扩展名为.ipy.\n"
   ]
  },
  {
   "cell_type": "markdown",
   "metadata": {},
   "source": [
    "### %set_env\n",
    "设置环境变量。  \n",
    "```\n",
    "%set_env var val: set value for var \n",
    "```"
   ]
  },
  {
   "cell_type": "markdown",
   "metadata": {},
   "source": [
    "### %sx并且捕获输出\n",
    "运行shell中命令。\n",
    "常常能见看到的`!ls`等价于`system('ls')`  \n",
    "然而`!！ls`等价于`%sx ls`  "
   ]
  },
  {
   "cell_type": "markdown",
   "metadata": {},
   "source": [
    "### %system\n",
    "同样是运行shell中命令的指令"
   ]
  },
  {
   "cell_type": "markdown",
   "metadata": {},
   "source": [
    "### %tb\n",
    "打印最后的异常回溯traceback。\n",
    "\n",
    "可选的参数为：指定异常报告模式，调整回溯的详细程度。默认情况下，使用当前活动的异常模式。请参阅 %xmode 以了解更改异常报告模式。\n",
    "\n",
    "可选报告模式：Plain、Context、Verbose 和 Minimal。"
   ]
  },
  {
   "cell_type": "markdown",
   "metadata": {},
   "source": [
    "### %time\n",
    "计算侧廊Python 语句或表达式的执行时间。\n",
    "\n",
    "将打印 CPU时间，系统时间以及总时间，并返回表达式的值（如果有）。请注意，在 Win32 下，系统时间总是报告为0，因为它无法测量。\n",
    "\n",
    "这个指令既可以测量一行代码的时间，也可以测量一个cell执行的时间。\n",
    "\n",
    "在行模式下，您可以为单行语句计时（尽管可以使用分号链接多个语句）。\n",
    "\n",
    "在单元格模式下，您可以对单元格主体进行计时（紧随其后的语句会引发错误）。\n",
    "\n",
    "这个函数提供了非常基本的计时功能。使用 timeit 魔法来更好地控制测量。\n",
    "\n",
    "例子\n",
    "\n",
    "```python\n",
    "In [1]: %time 2**128\n",
    "CPU times: user 0.00 s, sys: 0.00 s, total: 0.00 s\n",
    "Wall time: 0.00\n",
    "Out[1]: 340282366920938463463374607431768211456L\n",
    "\n",
    "In [2]: n = 1000000\n",
    "\n",
    "In [3]: %time sum(range(n))\n",
    "CPU times: user 1.20 s, sys: 0.05 s, total: 1.25 s\n",
    "Wall time: 1.37\n",
    "Out[3]: 499999500000L\n",
    "\n",
    "In [4]: %time print 'hello world'\n",
    "hello world\n",
    "CPU times: user 0.00 s, sys: 0.00 s, total: 0.00 s\n",
    "Wall time: 0.00\n",
    "```"
   ]
  },
  {
   "cell_type": "markdown",
   "metadata": {},
   "source": [
    "### %timeit\n",
    "测量Python 语句或表达式的执行时间。\n",
    "\n",
    "用法：  \n",
    "测量代码行：\n",
    "`%timeit [-n<N> -r<R> [-t|-c] -q -p<P> -o] statement`\n",
    "\n",
    "或在单元模式下：\n",
    "`%%timeit [-n<N> -r<R> [-t|-c] -q -p<P> -o] setup_code code code...`\n",
    "\n",
    "这个指令既可以测量一行代码的时间，也可以测量一个cell执行的时间。\n",
    "\n",
    "选项： -n<N>：在循环中执行给定语句 <N> 次。如果未提供<N>，则确定<N>以获得足够的准确度。\n",
    "\n",
    "-r<R>：重复次数<R>，每一次由<N>个循环组成，取最佳结果。默认值：7\n",
    "\n",
    "-t：使用 time.time 测量时间，这是 Unix 上的默认值。此功能测量wall time，即实际运行时间。\n",
    "\n",
    "-c：使用 time.clock 测量时间，这是 Windows 上的默认设置，用于测量挂壁时间。在 Unix 上，resource.getrusage 被使用并返回 CPU 用户时间。\n",
    "\n",
    "-p<P>：使用<P>位的精度来显示计时结果。默认值：3\n",
    "\n",
    "-q：安静，不打印结果。\n",
    "\n",
    "-o：返回一个 TimeitResult 可以存储在一个变量中进行检查\n",
    "结果更详细。\n",
    "\n",
    "在 7.3 版更改:用户变量不再扩展，魔术线始终保持不变。\n",
    "\n",
    "例子\n",
    "\n",
    "In [1]: %timeit pass\n",
    "8.26 ns ± 0.12 ns per loop (mean ± std. dev. of 7 runs, 100000000 loops each)\n",
    "\n",
    "In [2]: u = None\n",
    "\n",
    "In [3]: %timeit u is None\n",
    "29.9 ns ± 0.643 ns per loop (mean ± std. dev. of 7 runs, 10000000 loops each)\n",
    "\n",
    "In [4]: %timeit -r 4 u == None\n",
    "\n",
    "In [5]: import time\n",
    "\n",
    "In [6]: %timeit -n1 time.sleep(2)\n",
    "访问变量时，%timeit 报告的时间将略高于 timeit.py 脚本报告的时间。这是因为 %timeit 在 shell 的命名空间中执行语句，而 timeit.py 使用单个 setup 语句来导入函数或创建变量。通常，只要 timeit.py 的结果不与 %timeit 的结果混合，偏差就无关紧要。"
   ]
  },
  {
   "cell_type": "markdown",
   "metadata": {},
   "source": [
    "### %unalias\n",
    "删除别名。"
   ]
  },
  {
   "cell_type": "markdown",
   "metadata": {},
   "source": [
    "### %unload_ext\n",
    "根据模块名称，卸载一个IPython扩展。  \n",
    "并非所有扩展都可以卸载，只有那些定义unload_ipython_extension函数的扩展。"
   ]
  },
  {
   "cell_type": "markdown",
   "metadata": {},
   "source": [
    "### %who\n",
    "打印变量.\n",
    "\n",
    "如果给出了任何参数，则仅打印其类型与其中之一匹配的变量。例如：\n",
    "\n",
    "`%who function str`  \n",
    "只会列出函数和字符串，不包括所有其他类型的变量。要找到正确的类型名称，只需在命令行中使用 type(var) 即可查看 python 如何打印类型名称。例如：\n",
    "\n",
    "In [1]: type('hello')\\\n",
    "Out[1]: <type 'str'>\n",
    "表示字符串的类型名称是“str”。\n",
    "\n",
    "%who总是排除通过配置文件加载的执行名称和 IPython 内部的东西。\n",
    "\n",
    "例子\n",
    "\n",
    "In [1]: alpha = 123\n",
    "\n",
    "In [2]: beta = 'test'\n",
    "\n",
    "In [3]: %who\n",
    "alpha   beta\n",
    "\n",
    "In [4]: %who int\n",
    "alpha\n",
    "\n",
    "In [5]: %who str\n",
    "beta"
   ]
  },
  {
   "cell_type": "markdown",
   "metadata": {},
   "source": [
    "### %who_ls\n",
    "和上边的who基本相同，其实就是把返回的list进行了排序。\n",
    "设置环境变量。   \n",
    "例子  \n",
    "\n",
    "```python\n",
    "In [1]: alpha = 123\n",
    "\n",
    "In [2]: beta = 'test'\n",
    "\n",
    "In [3]: %who_ls\n",
    "Out[3]: ['alpha', 'beta']\n",
    "\n",
    "In [4]: %who_ls int\n",
    "Out[4]: ['alpha']\n",
    "\n",
    "In [5]: %who_ls str\n",
    "Out[5]: ['beta']\n",
    "```"
   ]
  },
  {
   "cell_type": "markdown",
   "metadata": {},
   "source": [
    "### %whos\n",
    "和%who相似，但是对每一个变量现实额外的信息  \n",
    "同样可以在后边增加上数据类型，以筛选出想显示的变量。\n",
    "对于所有变量，都会打印类型。此外，它还打印：\n",
    "\n",
    "对于 {},[],()：打印它们的长度。\n",
    "\n",
    "对于 numpy 数组，包含形状、元素数量、类型代码和内存大小的摘要。\n",
    "\n",
    "其他所有内容：字符串表示，如果太长则中间是省略号。  \n",
    "``` python\n",
    "In [1]: alpha = 123\n",
    "\n",
    "In [2]: beta = 'test'\n",
    "\n",
    "In [3]: %whos\n",
    "Variable   Type        Data/Info\n",
    "\n",
    "alpha      int         123\n",
    "beta       str         test\n",
    "```"
   ]
  },
  {
   "cell_type": "markdown",
   "metadata": {},
   "source": [
    "### %xdel\n",
    "删除一个变量，包括任何其它引用。\n",
    "\n",
    "该对象也会从输出历史记录中删除。"
   ]
  },
  {
   "cell_type": "markdown",
   "metadata": {},
   "source": [
    "### %xmod\n",
    "修改异常处理模式。  \n",
    "可以用的包括：Plain, Context, Verbose, and Minimal."
   ]
  },
  {
   "cell_type": "markdown",
   "metadata": {},
   "source": [
    "# Cell magics"
   ]
  },
  {
   "cell_type": "markdown",
   "metadata": {},
   "source": [
    "### %%bash\n",
    "将cell中内容，用bash在子线程中运行。"
   ]
  },
  {
   "cell_type": "markdown",
   "metadata": {},
   "source": [
    "### %%capture\n",
    "`%capture [--no-stderr] [--no-stdout] [--no-display] [output]`\n",
    "\n",
    "运行这个cell，然后捕捉下来输出以及报错。\n",
    "\n",
    "可选参数：\n",
    "--no-stderr\n",
    "不要捕获标准错误。\n",
    "\n",
    "--no-stdout\n",
    "不要捕获标准输出。\n",
    "\n",
    "--no-display\n",
    "不要捕获 IPython 的丰富显示。"
   ]
  },
  {
   "cell_type": "markdown",
   "metadata": {},
   "source": [
    "### %%html\n",
    "将该cell以html显示   \n",
    "可以设置`--isolated`，这样将只在 \\<iframe\\>  标记内呈现。"
   ]
  },
  {
   "cell_type": "markdown",
   "metadata": {},
   "source": [
    "### %%javascript\n",
    "运行 Javascript 代码的单元块\n",
    "\n",
    "从 IPython 8.0 %%javascript 开始正在等待弃用，以被更灵活的系统取代\n",
    "\n",
    "请参阅https://github.com/ipython/ipython/issues/13376"
   ]
  },
  {
   "cell_type": "markdown",
   "metadata": {},
   "source": [
    "### %%js\n",
    "运行 Javascript 代码的单元块\n",
    "\n",
    "别名%%javascript\n",
    "\n",
    "从 IPython 8.0 %%javascript 开始正在等待弃用，以被更灵活的系统取代\n",
    "\n",
    "请参阅https://github.com/ipython/ipython/issues/13376"
   ]
  },
  {
   "cell_type": "markdown",
   "metadata": {},
   "source": [
    "### %%latex\n",
    "以下cell以LaTex显示。\n",
    "\n",
    "支持的 LaTeX 子集取决于客户端中的实现。在 Jupyter Notebook 中，这个魔法只渲染由 MathJax( https://docs.mathjax.org/en/v2.5-latest/tex.html ) 定义的 LaTeX 子集。"
   ]
  },
  {
   "cell_type": "code",
   "execution_count": 22,
   "metadata": {},
   "outputs": [
    {
     "data": {
      "text/latex": [
       "$$ e^{i \\pi} + 1 = 0 $$\n"
      ],
      "text/plain": [
       "<IPython.core.display.Latex object>"
      ]
     },
     "metadata": {},
     "output_type": "display_data"
    }
   ],
   "source": [
    "%%latex\n",
    "$$ e^{i \\pi} + 1 = 0 $$"
   ]
  },
  {
   "cell_type": "markdown",
   "metadata": {},
   "source": [
    "### %%markdown\n",
    "将单元格渲染为 Markdown 文本块"
   ]
  },
  {
   "cell_type": "markdown",
   "metadata": {},
   "source": [
    "### %%perl\n",
    "在子进程中使用 perl 运行单元。"
   ]
  },
  {
   "cell_type": "markdown",
   "metadata": {},
   "source": [
    "### %%pypy\n",
    "在子进程中使用 pypy 运行单元格。"
   ]
  },
  {
   "cell_type": "markdown",
   "metadata": {},
   "source": [
    "### %%Python\n",
    "在子进程中使用 python 运行单元格。"
   ]
  },
  {
   "cell_type": "markdown",
   "metadata": {},
   "source": [
    "### %%python2\n",
    "在子进程中使用 python2 运行单元格。"
   ]
  },
  {
   "cell_type": "markdown",
   "metadata": {},
   "source": [
    "### %%python3\n",
    "在子进程中使用 python3 运行单元格。"
   ]
  },
  {
   "cell_type": "markdown",
   "metadata": {},
   "source": [
    "### %%ruby\n",
    "在子进程中使用 ruby​​ 运行单元。"
   ]
  },
  {
   "cell_type": "markdown",
   "metadata": {},
   "source": [
    "### %%script\n",
    "通过 shell 命令运行单元"
   ]
  },
  {
   "cell_type": "code",
   "execution_count": 24,
   "metadata": {},
   "outputs": [
    {
     "name": "stdout",
     "output_type": "stream",
     "text": [
      "1\n",
      "2\n",
      "3\n"
     ]
    }
   ],
   "source": [
    "%%script bash\n",
    "for i in 1 2 3; do\n",
    "    echo $i\n",
    "done"
   ]
  },
  {
   "cell_type": "markdown",
   "metadata": {},
   "source": [
    "### %%sh\n",
    "在子进程中使用 sh 运行单元格。"
   ]
  },
  {
   "cell_type": "markdown",
   "metadata": {},
   "source": [
    "### %%svg\n",
    "将单元格渲染为 SVG 文字"
   ]
  },
  {
   "cell_type": "markdown",
   "metadata": {},
   "source": [
    "### %%writefile\n",
    "`%writefile [-a] filename`  \n",
    "将单元格的内容写入文件。\n",
    "\n",
    "除非指定了 -a (–append) 标志，否则该文件将被覆盖。\n",
    "```\n",
    "%set_env var val: set value for var \n",
    "```"
   ]
  }
 ],
 "metadata": {
  "kernelspec": {
   "display_name": "Python 3.9.6 64-bit",
   "language": "python",
   "name": "python3"
  },
  "language_info": {
   "codemirror_mode": {
    "name": "ipython",
    "version": 3
   },
   "file_extension": ".py",
   "mimetype": "text/x-python",
   "name": "python",
   "nbconvert_exporter": "python",
   "pygments_lexer": "ipython3",
   "version": "3.9.6"
  },
  "orig_nbformat": 4,
  "vscode": {
   "interpreter": {
    "hash": "31f2aee4e71d21fbe5cf8b01ff0e069b9275f58929596ceb00d14d90e3e16cd6"
   }
  }
 },
 "nbformat": 4,
 "nbformat_minor": 2
}
